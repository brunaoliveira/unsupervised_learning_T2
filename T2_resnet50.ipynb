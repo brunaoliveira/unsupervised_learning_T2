{
 "cells": [
  {
   "cell_type": "markdown",
   "metadata": {},
   "source": [
    "## Imports"
   ]
  },
  {
   "cell_type": "code",
   "execution_count": 1,
   "metadata": {},
   "outputs": [
    {
     "data": {
      "text/plain": [
       "'/home/suzane/anaconda3/lib/python3.7/site-packages/sklearn/__init__.py'"
      ]
     },
     "execution_count": 1,
     "metadata": {},
     "output_type": "execute_result"
    }
   ],
   "source": [
    "import sklearn\n",
    "sklearn.__file__\n"
   ]
  },
  {
   "cell_type": "code",
   "execution_count": null,
   "metadata": {},
   "outputs": [],
   "source": [
    "import os\n",
    "import numpy as np\n",
    "import cv2\n",
    "import matplotlib.pyplot as plt\n",
    "import pandas as pd\n",
    "import seaborn as sns\n",
    "import random\n",
    "import math\n",
    "import collections\n",
    "from os import listdir\n",
    "from os.path import isfile, join\n",
    "from scipy.spatial.distance import cosine\n",
    "import time\n",
    "import pickle\n",
    "\n",
    "import numpy as np\n",
    "import umap\n",
    "import matplotlib.pyplot as plt\n",
    "\n",
    "from sklearn.cluster import KMeans, MiniBatchKMeans\n",
    "from sklearn_extra.cluster import KMedoids\n",
    "from sklearn.decomposition import PCA\n",
    "from sklearn.preprocessing import scale\n",
    "from sklearn.metrics.pairwise import pairwise_distances_argmin\n",
    "from sklearn.datasets.samples_generator import make_blobs\n",
    "\n",
    "from scipy.cluster.hierarchy import linkage\n",
    "from scipy.cluster.hierarchy import fcluster\n",
    "from scipy.cluster.hierarchy import dendrogram\n",
    "\n",
    "from pprint import pprint\n",
    "from tensorflow.keras.preprocessing import image\n",
    "from tensorflow.keras.applications.resnet50 import ResNet50\n",
    "from tensorflow.keras.applications.resnet50 import preprocess_input\n",
    "\n",
    "np.random.seed(42)\n",
    "plt.rcParams['figure.figsize'] = [15, 5]"
   ]
  },
  {
   "cell_type": "markdown",
   "metadata": {},
   "source": [
    "## Construção da Base de Dados"
   ]
  },
  {
   "cell_type": "code",
   "execution_count": null,
   "metadata": {},
   "outputs": [],
   "source": [
    "# PEGA PATH DE TODAS IMAGENS E COLOCA EM UM ARRAY\n",
    "all_paths = []\n",
    "classes = listdir('./natural_images_100/')\n",
    "all_classes = []\n",
    "\n",
    "for root, dirs, files in os.walk('./natural_images_100/'):\n",
    "    for d in dirs:\n",
    "        for f in listdir(root + d):\n",
    "            all_classes.append(d)\n",
    "            all_paths.append(root + d + '/' + f)\n",
    "# classes\n",
    "# len(all_paths)"
   ]
  },
  {
   "cell_type": "code",
   "execution_count": null,
   "metadata": {},
   "outputs": [],
   "source": [
    "# COLOCA TDS IMAGENS EM UM ARRAY DE IMAGENS PIL 224x224\n",
    "all_images = np.empty(len(all_paths), dtype=object)\n",
    "\n",
    "for n in range(0, len(all_paths)):\n",
    "    all_images[n] = image.load_img(all_paths[n], target_size=(224, 224))"
   ]
  },
  {
   "cell_type": "code",
   "execution_count": null,
   "metadata": {},
   "outputs": [],
   "source": [
    "def print_image(all_images_index):\n",
    "    img = all_images[all_images_index]\n",
    "    plt.imshow(img)\n",
    "    plt.show()\n",
    "    plt.close()\n",
    "    \n",
    "# print_image(0)"
   ]
  },
  {
   "cell_type": "markdown",
   "metadata": {},
   "source": [
    "## Criando o modelo"
   ]
  },
  {
   "cell_type": "code",
   "execution_count": null,
   "metadata": {},
   "outputs": [],
   "source": [
    "model = ResNet50(weights='imagenet', include_top=False, pooling='avg', input_shape=(224, 224, 3))\n",
    "\n",
    "# model.summary()"
   ]
  },
  {
   "cell_type": "code",
   "execution_count": null,
   "metadata": {},
   "outputs": [],
   "source": [
    "# calculating to all features\n",
    "# SALVA ARRAY DE FEATURES EM UM GRANDE ARRAY PARA TDS FEATURES\n",
    "all_features = np.empty((len(all_images), model._nested_outputs.shape[1]))\n",
    "feature_list_np = []\n",
    "feature_list = []\n",
    "\n",
    "for i in range(len(all_images)):\n",
    "    x = image.img_to_array(all_images[i])\n",
    "    x = np.expand_dims(x, axis=0)\n",
    "    x = preprocess_input(x)\n",
    "\n",
    "    features = model.predict(x)\n",
    "    feature_list_np.append(np.array(features))\n",
    "    feature_list.append((np.array(features)).flatten())\n",
    "\n",
    "    for feature in features:\n",
    "        all_features[i] = feature"
   ]
  },
  {
   "cell_type": "code",
   "execution_count": null,
   "metadata": {},
   "outputs": [],
   "source": [
    "print(np.shape(all_features))\n",
    "print(np.shape(all_features[0]))\n",
    "print()\n",
    "print(np.shape(feature_list))\n",
    "print(np.shape(feature_list[0]))"
   ]
  },
  {
   "cell_type": "code",
   "execution_count": null,
   "metadata": {},
   "outputs": [],
   "source": [
    "# PICKLE\n",
    "\n",
    "pickle_file_name = 'features.pkl'\n",
    "\n",
    "#def dump_features(dump):\n",
    "#    with open(pickle_file_name, 'w') as f:\n",
    "#        pickle.dump(dump, f)\n",
    "\n",
    "#def load_features():\n",
    "#    with open(pickle_file_name, 'r') as f:\n",
    "#        pickle.load(f)\n",
    "\n",
    "d = {'path': all_paths, 'class': all_classes, 'features': feature_list}\n",
    "df_features = pd.DataFrame(data=d)\n",
    "\n",
    "df_features.to_pickle(pickle_file_name)\n",
    "\n",
    "#unpickled_df = pd.read_pickle(pickle_file_name)"
   ]
  },
  {
   "cell_type": "code",
   "execution_count": null,
   "metadata": {
    "scrolled": true
   },
   "outputs": [],
   "source": [
    "all_features"
   ]
  },
  {
   "cell_type": "code",
   "execution_count": null,
   "metadata": {},
   "outputs": [],
   "source": [
    "feature_list"
   ]
  },
  {
   "cell_type": "code",
   "execution_count": null,
   "metadata": {},
   "outputs": [],
   "source": [
    "# printa features da primeira imagem\n",
    "len(all_features)\n",
    "pprint(all_features[0])\n",
    "for a in all_features:\n",
    "    print(a)"
   ]
  },
  {
   "cell_type": "code",
   "execution_count": null,
   "metadata": {},
   "outputs": [],
   "source": [
    "# Verificando shape e tipo das features da prmeira imagem\n",
    "print(all_features[0].shape, features.dtype, '\\n')\n",
    "\n",
    "# Mostrando as features.\n",
    "pprint(features[0])"
   ]
  },
  {
   "cell_type": "code",
   "execution_count": null,
   "metadata": {},
   "outputs": [],
   "source": [
    "# COMPARA DUAS IMAGENS PARECIDAS PRA VALIDAR AS FEATURES\n",
    "index_img_1 = 0\n",
    "index_img_2 = 5\n",
    "distance = cosine(feature_list[index_img_1], feature_list[index_img_2])\n",
    "print(distance)\n",
    "print_image(index_img_1)\n",
    "print_image(index_img_2)"
   ]
  },
  {
   "cell_type": "markdown",
   "metadata": {},
   "source": [
    "# 2 Aplicação de Algoritmos de Agrupamento de Dados"
   ]
  },
  {
   "cell_type": "markdown",
   "metadata": {},
   "source": [
    "### 2.1 Partitioning-based"
   ]
  },
  {
   "cell_type": "code",
   "execution_count": null,
   "metadata": {},
   "outputs": [],
   "source": [
    "# Inicializa Dataframe para plotar resultados\n",
    "\n",
    "images_transformed = umap.UMAP(n_neighbors=5).fit_transform(all_features.data)\n",
    "df = pd.DataFrame(images_transformed, columns=['x', 'y'])\n",
    "df.head()"
   ]
  },
  {
   "cell_type": "markdown",
   "metadata": {},
   "source": [
    "### 2.1.a - Kmeans"
   ]
  },
  {
   "cell_type": "code",
   "execution_count": null,
   "metadata": {},
   "outputs": [],
   "source": [
    "kmeans = KMeans(n_clusters=len(classes), random_state=0).fit(np.array(np.array(feature_list)))\n",
    "print('Inércia do Kmeans: ', kmeans.inertia_)"
   ]
  },
  {
   "cell_type": "code",
   "execution_count": null,
   "metadata": {},
   "outputs": [],
   "source": [
    "df_kmeans = df\n",
    "df_kmeans['label'] = kmeans.labels_\n",
    "df_kmeans.head()"
   ]
  },
  {
   "cell_type": "code",
   "execution_count": null,
   "metadata": {},
   "outputs": [],
   "source": [
    "_ = sns.scatterplot(x='x', y='y', data=df_kmeans, hue='label', palette='rainbow', legend='full')\n",
    "plt.legend(bbox_to_anchor=(1.05, 1), loc=2, borderaxespad=0.)\n"
   ]
  },
  {
   "cell_type": "markdown",
   "metadata": {},
   "source": [
    "### 2.1.b - KMedoids"
   ]
  },
  {
   "cell_type": "code",
   "execution_count": null,
   "metadata": {},
   "outputs": [],
   "source": [
    "kmedoids = KMedoids(n_clusters=len(classes), random_state=0).fit(feature_list)\n",
    "print('Inércia do KMedoids: ', kmedoids.inertia_)\n",
    "print(kmedoids.labels_)\n",
    "# reduced_data = PCA(n_components=len(classes)).fit_transform(feature_list)\n",
    "\n",
    "# print(dir(reduced_data))"
   ]
  },
  {
   "cell_type": "code",
   "execution_count": null,
   "metadata": {},
   "outputs": [],
   "source": [
    "len(kmedoids.labels_)"
   ]
  },
  {
   "cell_type": "code",
   "execution_count": null,
   "metadata": {},
   "outputs": [],
   "source": [
    "df_kmedoids = df\n",
    "df_kmedoids['label'] = kmedoids.labels_\n",
    "df_kmedoids.head()\n"
   ]
  },
  {
   "cell_type": "code",
   "execution_count": null,
   "metadata": {},
   "outputs": [],
   "source": [
    "_ = sns.scatterplot(x='x', y='y', data=df_kmedoids, hue='label', palette='rainbow', legend='full')\n",
    "plt.legend(bbox_to_anchor=(1.05, 1), loc=2, borderaxespad=0.)\n"
   ]
  },
  {
   "cell_type": "markdown",
   "metadata": {},
   "source": [
    "### 2.1.c - Mini Batch KMeans"
   ]
  },
  {
   "cell_type": "code",
   "execution_count": null,
   "metadata": {
    "scrolled": true
   },
   "outputs": [],
   "source": [
    "miniBatchKmeans = MiniBatchKMeans(n_clusters=len(classes), random_state=0).fit(feature_list)\n",
    "\n",
    "print('Inércia do Mini Batch Kmeans: {}\\n'.format(miniBatchKmeans.inertia_))\n",
    "print('Labels: ', miniBatchKmeans.labels_)\n"
   ]
  },
  {
   "cell_type": "code",
   "execution_count": null,
   "metadata": {},
   "outputs": [],
   "source": [
    "df_miniBatchKmeans = df\n",
    "df_miniBatchKmeans['label'] = miniBatchKmeans.labels_\n",
    "df_miniBatchKmeans.head()\n"
   ]
  },
  {
   "cell_type": "code",
   "execution_count": null,
   "metadata": {
    "scrolled": true
   },
   "outputs": [],
   "source": [
    "_ = sns.scatterplot(x='x', y='y', data=df_miniBatchKmeans, hue='label', palette='rainbow', legend='full')\n",
    "plt.legend(bbox_to_anchor=(1.05, 1), loc=2, borderaxespad=0.)\n"
   ]
  },
  {
   "cell_type": "markdown",
   "metadata": {},
   "source": [
    "### 2.2 Hierarchical-based"
   ]
  },
  {
   "cell_type": "markdown",
   "metadata": {},
   "source": [
    "### 2.2.a Hierarchical Agglomerative Clustering - Single Linkage"
   ]
  },
  {
   "cell_type": "code",
   "execution_count": null,
   "metadata": {},
   "outputs": [],
   "source": [
    "from scipy.cluster.hierarchy import ward, fcluster\n",
    "from scipy.spatial.distance import pdist\n",
    "Z = ward(pdist(feature_list))\n",
    "clusters = fcluster(Z, t=0.9, criterion='distance')\n"
   ]
  },
  {
   "cell_type": "code",
   "execution_count": null,
   "metadata": {},
   "outputs": [],
   "source": [
    "df_single = df\n",
    "linkage_matrix_single = linkage(df_single, method='single')\n",
    "plt.title('Hierarchical Clustering Dendrogram (Single)')\n",
    "plt.xlabel('Sample index')\n",
    "plt.ylabel('Distance')\n",
    "d = dendrogram(linkage_matrix_single)\n"
   ]
  },
  {
   "cell_type": "code",
   "execution_count": null,
   "metadata": {},
   "outputs": [],
   "source": [
    "labels = fcluster(linkage_matrix_single, 1.6, 'distance')\n",
    "df_single['cluster_labels'] = labels\n",
    "_ = sns.scatterplot(x='x', y='y', data=df_single, hue='cluster_labels', palette='tab10', legend=False)"
   ]
  },
  {
   "cell_type": "markdown",
   "metadata": {},
   "source": [
    "### 2.2.b Hierarchical Agglomerative Clustering - Complete Linkage"
   ]
  },
  {
   "cell_type": "code",
   "execution_count": null,
   "metadata": {},
   "outputs": [],
   "source": [
    "df_complete = df\n",
    "linkage_matrix_complete = linkage(df_complete, method='complete')\n",
    "plt.title('Hierarchical Clustering Dendrogram (Complete)')\n",
    "plt.xlabel('Sample index')\n",
    "plt.ylabel('Distance')\n",
    "d = dendrogram(linkage_matrix_complete)"
   ]
  },
  {
   "cell_type": "code",
   "execution_count": null,
   "metadata": {},
   "outputs": [],
   "source": [
    "df_complete['cluster_labels'] = labels\n",
    "_ = sns.scatterplot(x='x', y='y', data=df_complete, hue='cluster_labels', palette='tab10', legend=False)"
   ]
  },
  {
   "cell_type": "markdown",
   "metadata": {},
   "source": [
    "### 2.2.c Hierarchical Agglomerative Clustering - Average Linkage"
   ]
  },
  {
   "cell_type": "code",
   "execution_count": null,
   "metadata": {},
   "outputs": [],
   "source": [
    "df_average = df\n",
    "linkage_matrix = linkage(df_average, method='average')\n",
    "d = dendrogram(linkage_matrix)"
   ]
  },
  {
   "cell_type": "code",
   "execution_count": null,
   "metadata": {},
   "outputs": [],
   "source": [
    "labels = fcluster(linkage_matrix, 3.5, 'distance')\n",
    "df_average['cluster_labels'] = labels\n",
    "_ = sns.scatterplot(x='x', y='y', data=df_average, hue='cluster_labels', palette='tab10', legend=False)\n"
   ]
  },
  {
   "cell_type": "markdown",
   "metadata": {},
   "source": [
    "### Density-based"
   ]
  },
  {
   "cell_type": "code",
   "execution_count": null,
   "metadata": {},
   "outputs": [],
   "source": [
    "#  sklearn.cluster.DBSCAN"
   ]
  },
  {
   "cell_type": "markdown",
   "metadata": {},
   "source": [
    "### Grid-based"
   ]
  },
  {
   "cell_type": "code",
   "execution_count": null,
   "metadata": {},
   "outputs": [],
   "source": []
  },
  {
   "cell_type": "markdown",
   "metadata": {},
   "source": [
    "### Model-based"
   ]
  },
  {
   "cell_type": "code",
   "execution_count": null,
   "metadata": {},
   "outputs": [],
   "source": []
  },
  {
   "cell_type": "markdown",
   "metadata": {},
   "source": [
    "# 3 Avaliação do resultado dos agrupamentos de dados"
   ]
  },
  {
   "cell_type": "markdown",
   "metadata": {},
   "source": [
    "### Quantitativas"
   ]
  },
  {
   "cell_type": "markdown",
   "metadata": {},
   "source": [
    "#### Interno"
   ]
  },
  {
   "cell_type": "code",
   "execution_count": null,
   "metadata": {},
   "outputs": [],
   "source": []
  },
  {
   "cell_type": "markdown",
   "metadata": {},
   "source": [
    "#### Externo"
   ]
  },
  {
   "cell_type": "code",
   "execution_count": null,
   "metadata": {},
   "outputs": [],
   "source": []
  },
  {
   "cell_type": "markdown",
   "metadata": {},
   "source": [
    "#### Relativo"
   ]
  },
  {
   "cell_type": "code",
   "execution_count": null,
   "metadata": {},
   "outputs": [],
   "source": []
  },
  {
   "cell_type": "markdown",
   "metadata": {},
   "source": [
    "### Subjetiva"
   ]
  },
  {
   "cell_type": "code",
   "execution_count": null,
   "metadata": {},
   "outputs": [],
   "source": [
    "\n",
    "for i in range(len(classes)):\n",
    "    print(\"Cluster\", i, classes[i])\n",
    "    for j in range(len(kmedoids.labels_)):\n",
    "        if(kmedoids.labels_[j] == i):\n",
    "            plt.rcParams[\"figure.figsize\"] = (1,1)\n",
    "            ax = plt.subplot(111)\n",
    "            ax.get_xaxis().set_visible(False)\n",
    "            ax.get_yaxis().set_visible(False)\n",
    "            print_image(j)"
   ]
  },
  {
   "cell_type": "code",
   "execution_count": null,
   "metadata": {},
   "outputs": [],
   "source": []
  }
 ],
 "metadata": {
  "kernelspec": {
   "display_name": "Python 3",
   "language": "python",
   "name": "python3"
  },
  "language_info": {
   "codemirror_mode": {
    "name": "ipython",
    "version": 3
   },
   "file_extension": ".py",
   "mimetype": "text/x-python",
   "name": "python",
   "nbconvert_exporter": "python",
   "pygments_lexer": "ipython3",
   "version": "3.7.5"
  }
 },
 "nbformat": 4,
 "nbformat_minor": 2
}
